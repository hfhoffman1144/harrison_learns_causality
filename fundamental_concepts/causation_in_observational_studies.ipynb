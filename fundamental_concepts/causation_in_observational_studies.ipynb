{
 "cells": [
  {
   "cell_type": "markdown",
   "metadata": {},
   "source": [
    "# Causation In Observational Studies\n",
    "source: https://www.youtube.com/watch?v=MrZDBsS7hG4&list=PLoazKTcS0Rzb6bb9L508cyJ1z-U9iWkA0&index=5\n",
    "\n",
    "## Short Summary\n",
    "To establish causality in observational studies (if possible), you have to control for confounding variables \n",
    "\n",
    "### Y - outcome, T - treatment, C - confounding variable\n",
    "\n",
    "### $E[Y | do(T = t)] = E_C E[Y | t, C] = \\sum_{c} E[Y | t, c]P(c)$"
   ]
  },
  {
   "cell_type": "markdown",
   "metadata": {},
   "source": [
    "# A Simple Example - Simpson's Paradox"
   ]
  },
  {
   "cell_type": "code",
   "execution_count": 1,
   "metadata": {},
   "outputs": [],
   "source": [
    "import numpy as np\n",
    "import pandas as pd"
   ]
  },
  {
   "cell_type": "code",
   "execution_count": 15,
   "metadata": {},
   "outputs": [
    {
     "name": "stdout",
     "output_type": "stream",
     "text": [
      "(2050, 3)\n"
     ]
    },
    {
     "data": {
      "text/html": [
       "<div>\n",
       "<style scoped>\n",
       "    .dataframe tbody tr th:only-of-type {\n",
       "        vertical-align: middle;\n",
       "    }\n",
       "\n",
       "    .dataframe tbody tr th {\n",
       "        vertical-align: top;\n",
       "    }\n",
       "\n",
       "    .dataframe thead th {\n",
       "        text-align: right;\n",
       "    }\n",
       "</style>\n",
       "<table border=\"1\" class=\"dataframe\">\n",
       "  <thead>\n",
       "    <tr style=\"text-align: right;\">\n",
       "      <th></th>\n",
       "      <th>outcome</th>\n",
       "      <th>treatment</th>\n",
       "      <th>severity</th>\n",
       "    </tr>\n",
       "  </thead>\n",
       "  <tbody>\n",
       "    <tr>\n",
       "      <th>0</th>\n",
       "      <td>1.0</td>\n",
       "      <td>B</td>\n",
       "      <td>severe</td>\n",
       "    </tr>\n",
       "    <tr>\n",
       "      <th>1</th>\n",
       "      <td>1.0</td>\n",
       "      <td>B</td>\n",
       "      <td>severe</td>\n",
       "    </tr>\n",
       "    <tr>\n",
       "      <th>2</th>\n",
       "      <td>1.0</td>\n",
       "      <td>B</td>\n",
       "      <td>severe</td>\n",
       "    </tr>\n",
       "    <tr>\n",
       "      <th>3</th>\n",
       "      <td>1.0</td>\n",
       "      <td>B</td>\n",
       "      <td>severe</td>\n",
       "    </tr>\n",
       "    <tr>\n",
       "      <th>4</th>\n",
       "      <td>1.0</td>\n",
       "      <td>B</td>\n",
       "      <td>severe</td>\n",
       "    </tr>\n",
       "  </tbody>\n",
       "</table>\n",
       "</div>"
      ],
      "text/plain": [
       "   outcome treatment severity\n",
       "0      1.0         B   severe\n",
       "1      1.0         B   severe\n",
       "2      1.0         B   severe\n",
       "3      1.0         B   severe\n",
       "4      1.0         B   severe"
      ]
     },
     "execution_count": 15,
     "metadata": {},
     "output_type": "execute_result"
    }
   ],
   "source": [
    "# 210 / 1400 patients with mild conditions under treatment a died\n",
    "treatment_a_mild = np.concatenate([np.ones(210) , np.zeros(1400 - 210)]) \n",
    "\n",
    "# 30 / 100 patients with severe conditions under treatment a died\n",
    "treatment_a_severe  = np.concatenate([np.ones(30), np.zeros(100 - 30)])  \n",
    "\n",
    "# 5 / 50 patients with mild conditions under treatment b died\n",
    "treatment_b_mild  = np.concatenate([np.ones(5), np.zeros(50 - 5)])  \n",
    "\n",
    "# 100 / 5000 patients with severe conditions under treatment b died\n",
    "treatment_b_severe  = np.concatenate([np.ones(100), np.zeros(500 - 100)])  \n",
    "\n",
    "data1 = pd.DataFrame(treatment_a_mild, columns=[\"outcome\"])\n",
    "data1[\"treatment\"] = \"A\"\n",
    "data1[\"condition\"] = \"mild\"\n",
    "\n",
    "data = pd.DataFrame()\n",
    "\n",
    "for treatment, severity, outcome in (\n",
    "    zip([\"A\",\"A\",\"B\",\"B\"],\n",
    "        [\"mild\", \"severe\", \"mild\", \"severe\"],\n",
    "        [treatment_a_mild, \n",
    "         treatment_a_severe,\n",
    "         treatment_b_mild,\n",
    "         treatment_b_severe]\n",
    "        )\n",
    "):\n",
    "    data_tmp = pd.DataFrame(outcome, columns=[\"outcome\"])\n",
    "    data_tmp[\"treatment\"] = treatment\n",
    "    data_tmp[\"severity\"] = severity\n",
    "    \n",
    "    data = pd.concat([data_tmp, data])\n",
    "\n",
    "print(data.shape) \n",
    "data.head()"
   ]
  },
  {
   "cell_type": "markdown",
   "metadata": {},
   "source": [
    "### Question: Which treatment had a lower death rate?"
   ]
  },
  {
   "cell_type": "code",
   "execution_count": 21,
   "metadata": {},
   "outputs": [
    {
     "data": {
      "text/html": [
       "<div>\n",
       "<style scoped>\n",
       "    .dataframe tbody tr th:only-of-type {\n",
       "        vertical-align: middle;\n",
       "    }\n",
       "\n",
       "    .dataframe tbody tr th {\n",
       "        vertical-align: top;\n",
       "    }\n",
       "\n",
       "    .dataframe thead th {\n",
       "        text-align: right;\n",
       "    }\n",
       "</style>\n",
       "<table border=\"1\" class=\"dataframe\">\n",
       "  <thead>\n",
       "    <tr style=\"text-align: right;\">\n",
       "      <th></th>\n",
       "      <th>treatment</th>\n",
       "      <th>death_rate</th>\n",
       "      <th>num_observations</th>\n",
       "    </tr>\n",
       "  </thead>\n",
       "  <tbody>\n",
       "    <tr>\n",
       "      <th>0</th>\n",
       "      <td>A</td>\n",
       "      <td>0.160000</td>\n",
       "      <td>1500</td>\n",
       "    </tr>\n",
       "    <tr>\n",
       "      <th>1</th>\n",
       "      <td>B</td>\n",
       "      <td>0.190909</td>\n",
       "      <td>550</td>\n",
       "    </tr>\n",
       "  </tbody>\n",
       "</table>\n",
       "</div>"
      ],
      "text/plain": [
       "  treatment  death_rate  num_observations\n",
       "0         A    0.160000              1500\n",
       "1         B    0.190909               550"
      ]
     },
     "execution_count": 21,
     "metadata": {},
     "output_type": "execute_result"
    }
   ],
   "source": [
    "by_treatment = data.groupby(\"treatment\")[\"outcome\"].agg([\"mean\",\"count\"]).reset_index()\n",
    "by_treatment.columns = [\"treatment\", \"death_rate\", \"num_observations\"]\n",
    "by_treatment"
   ]
  },
  {
   "cell_type": "markdown",
   "metadata": {},
   "source": [
    "At a first glance, it seems like treatment A is better because the death rate is lower. However, we should immediately be skeptical because the sample size in treatment B is much smaller than A. More importantly, however, there is a confounding variable - disease severtiy."
   ]
  },
  {
   "cell_type": "code",
   "execution_count": 26,
   "metadata": {},
   "outputs": [
    {
     "data": {
      "text/html": [
       "<div>\n",
       "<style scoped>\n",
       "    .dataframe tbody tr th:only-of-type {\n",
       "        vertical-align: middle;\n",
       "    }\n",
       "\n",
       "    .dataframe tbody tr th {\n",
       "        vertical-align: top;\n",
       "    }\n",
       "\n",
       "    .dataframe thead th {\n",
       "        text-align: right;\n",
       "    }\n",
       "</style>\n",
       "<table border=\"1\" class=\"dataframe\">\n",
       "  <thead>\n",
       "    <tr style=\"text-align: right;\">\n",
       "      <th></th>\n",
       "      <th>treatment</th>\n",
       "      <th>severity</th>\n",
       "      <th>death_rate</th>\n",
       "      <th>num_observations</th>\n",
       "    </tr>\n",
       "  </thead>\n",
       "  <tbody>\n",
       "    <tr>\n",
       "      <th>0</th>\n",
       "      <td>A</td>\n",
       "      <td>mild</td>\n",
       "      <td>0.15</td>\n",
       "      <td>1400</td>\n",
       "    </tr>\n",
       "    <tr>\n",
       "      <th>1</th>\n",
       "      <td>A</td>\n",
       "      <td>severe</td>\n",
       "      <td>0.30</td>\n",
       "      <td>100</td>\n",
       "    </tr>\n",
       "    <tr>\n",
       "      <th>2</th>\n",
       "      <td>B</td>\n",
       "      <td>mild</td>\n",
       "      <td>0.10</td>\n",
       "      <td>50</td>\n",
       "    </tr>\n",
       "    <tr>\n",
       "      <th>3</th>\n",
       "      <td>B</td>\n",
       "      <td>severe</td>\n",
       "      <td>0.20</td>\n",
       "      <td>500</td>\n",
       "    </tr>\n",
       "  </tbody>\n",
       "</table>\n",
       "</div>"
      ],
      "text/plain": [
       "  treatment severity  death_rate  num_observations\n",
       "0         A     mild        0.15              1400\n",
       "1         A   severe        0.30               100\n",
       "2         B     mild        0.10                50\n",
       "3         B   severe        0.20               500"
      ]
     },
     "execution_count": 26,
     "metadata": {},
     "output_type": "execute_result"
    }
   ],
   "source": [
    "by_treatment_sev = data.groupby([\"treatment\", \"severity\"])[\"outcome\"].agg([\"mean\",\"count\"]).reset_index()\n",
    "by_treatment_sev.columns = [\"treatment\", \"severity\", \"death_rate\", \"num_observations\"]\n",
    "by_treatment_sev"
   ]
  },
  {
   "cell_type": "markdown",
   "metadata": {},
   "source": [
    "The death rate for both mild and severe cases is lower in treatment B. The aggregate death rate in B is higher, however, because a much larger sample size fell into the severe category than in treatment A.\n"
   ]
  },
  {
   "cell_type": "code",
   "execution_count": 35,
   "metadata": {},
   "outputs": [
    {
     "name": "stdout",
     "output_type": "stream",
     "text": [
      "Treatment A causal death rate:  0.19390243902439025\n",
      "Treatment B causal death rate:  0.12926829268292683\n"
     ]
    }
   ],
   "source": [
    "p_mild = (data[\"severity\"] == \"mild\").mean()\n",
    "p_severe = (data[\"severity\"] == \"severe\").mean()\n",
    "\n",
    "p_death_a_mild = data[(data[\"treatment\"] == \"A\") & (data[\"severity\"] == \"mild\")][\"outcome\"].mean()\n",
    "p_death_a_severe = data[(data[\"treatment\"] == \"A\") & (data[\"severity\"] == \"severe\")][\"outcome\"].mean()\n",
    "\n",
    "p_death_b_mild = data[(data[\"treatment\"] == \"B\") & (data[\"severity\"] == \"mild\")][\"outcome\"].mean()\n",
    "p_death_b_severe = data[(data[\"treatment\"] == \"B\") & (data[\"severity\"] == \"severe\")][\"outcome\"].mean()\n",
    "\n",
    "print(\"Treatment A causal death rate: \", p_death_a_mild*p_mild + p_death_a_severe*p_severe)\n",
    "print(\"Treatment B causal death rate: \", p_death_b_mild*p_mild + p_death_b_severe*p_severe)"
   ]
  },
  {
   "cell_type": "code",
   "execution_count": null,
   "metadata": {},
   "outputs": [],
   "source": []
  }
 ],
 "metadata": {
  "kernelspec": {
   "display_name": "Python 3",
   "language": "python",
   "name": "python3"
  },
  "language_info": {
   "codemirror_mode": {
    "name": "ipython",
    "version": 3
   },
   "file_extension": ".py",
   "mimetype": "text/x-python",
   "name": "python",
   "nbconvert_exporter": "python",
   "pygments_lexer": "ipython3",
   "version": "3.11.1"
  },
  "orig_nbformat": 4
 },
 "nbformat": 4,
 "nbformat_minor": 2
}
